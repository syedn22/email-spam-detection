{
 "metadata": {
  "language_info": {
   "codemirror_mode": {
    "name": "ipython",
    "version": 3
   },
   "file_extension": ".py",
   "mimetype": "text/x-python",
   "name": "python",
   "nbconvert_exporter": "python",
   "pygments_lexer": "ipython3",
   "version": "3.8.3-final"
  },
  "orig_nbformat": 2,
  "kernelspec": {
   "name": "Python 3.8.3 64-bit (conda)",
   "display_name": "Python 3.8.3 64-bit (conda)",
   "metadata": {
    "interpreter": {
     "hash": "b20b9c6008d236684963551554021aabd90c69ab0752a9da9e13e115cf3b2335"
    }
   }
  }
 },
 "nbformat": 4,
 "nbformat_minor": 2,
 "cells": [
  {
   "cell_type": "code",
   "execution_count": 7,
   "metadata": {},
   "outputs": [],
   "source": [
    "import pickle \n",
    "import numpy as np\n",
    "import pandas as pd\n",
    "from sklearn.model_selection import train_test_split\n",
    "from sklearn.naive_bayes import MultinomialNB\n",
    "from sklearn.metrics import accuracy_score\n",
    "from sklearn.ensemble import RandomForestClassifier"
   ]
  },
  {
   "cell_type": "code",
   "execution_count": 8,
   "metadata": {},
   "outputs": [
    {
     "output_type": "execute_result",
     "data": {
      "text/plain": [
       "   Email No.  the  to  ect  and  for  of    a  you  hou  ...  connevey  jay  \\\n",
       "0    Email 1    0   0    1    0    0   0    2    0    0  ...         0    0   \n",
       "1    Email 2    8  13   24    6    6   2  102    1   27  ...         0    0   \n",
       "2    Email 3    0   0    1    0    0   0    8    0    0  ...         0    0   \n",
       "3    Email 4    0   5   22    0    5   1   51    2   10  ...         0    0   \n",
       "4    Email 5    7   6   17    1    5   2   57    0    9  ...         0    0   \n",
       "5    Email 6    4   5    1    4    2   3   45    1    0  ...         0    0   \n",
       "6    Email 7    5   3    1    3    2   1   37    0    0  ...         0    0   \n",
       "7    Email 8    0   2    2    3    1   2   21    6    0  ...         0    0   \n",
       "8    Email 9    2   2    3    0    0   1   18    0    0  ...         0    0   \n",
       "9   Email 10    4   4   35    0    1   0   49    1   16  ...         0    0   \n",
       "10  Email 11   22  14    2    9    2   2  104    0    2  ...         0    0   \n",
       "11  Email 12   33  28   27   11   10  12  173    6   12  ...         0    0   \n",
       "12  Email 13   27  17    3    7    5   8  106    3    0  ...         0    0   \n",
       "13  Email 14    4   5    7    1    5   1   37    1    3  ...         0    0   \n",
       "14  Email 15    2   4    6    0    3   1   16    0    3  ...         0    0   \n",
       "15  Email 16    6   2    1    0    2   0   36    3    1  ...         0    0   \n",
       "16  Email 17    3   1    2    2    0   1   17    0    0  ...         0    0   \n",
       "17  Email 18   36  21    6   14    7  17  194   25    5  ...         0    0   \n",
       "18  Email 19    1   3    1    0    2   0   14    0    0  ...         0    0   \n",
       "19  Email 20    3   4   11    0    4   2   32    1    5  ...         0    0   \n",
       "\n",
       "    valued  lay  infrastructure  military  allowing  ff  dry  Prediction  \n",
       "0        0    0               0         0         0   0    0           0  \n",
       "1        0    0               0         0         0   1    0           0  \n",
       "2        0    0               0         0         0   0    0           0  \n",
       "3        0    0               0         0         0   0    0           0  \n",
       "4        0    0               0         0         0   1    0           0  \n",
       "5        0    0               0         0         0   0    0           1  \n",
       "6        0    0               0         0         0   0    0           0  \n",
       "7        0    0               0         0         0   1    0           1  \n",
       "8        0    0               0         0         0   0    0           0  \n",
       "9        0    0               0         0         0   0    0           0  \n",
       "10       0    0               0         0         0   1    0           0  \n",
       "11       0    0               0         0         0   5    0           0  \n",
       "12       0    0               0         0         0   4    0           0  \n",
       "13       0    0               0         0         0   2    0           0  \n",
       "14       0    0               0         0         0   1    0           0  \n",
       "15       0    0               0         0         0   0    0           0  \n",
       "16       0    0               0         0         0   1    0           1  \n",
       "17       0    0               0         0         0   3    0           1  \n",
       "18       0    0               0         0         0   0    0           0  \n",
       "19       0    0               0         0         0   1    0           0  \n",
       "\n",
       "[20 rows x 3002 columns]"
      ],
      "text/html": "<div>\n<style scoped>\n    .dataframe tbody tr th:only-of-type {\n        vertical-align: middle;\n    }\n\n    .dataframe tbody tr th {\n        vertical-align: top;\n    }\n\n    .dataframe thead th {\n        text-align: right;\n    }\n</style>\n<table border=\"1\" class=\"dataframe\">\n  <thead>\n    <tr style=\"text-align: right;\">\n      <th></th>\n      <th>Email No.</th>\n      <th>the</th>\n      <th>to</th>\n      <th>ect</th>\n      <th>and</th>\n      <th>for</th>\n      <th>of</th>\n      <th>a</th>\n      <th>you</th>\n      <th>hou</th>\n      <th>...</th>\n      <th>connevey</th>\n      <th>jay</th>\n      <th>valued</th>\n      <th>lay</th>\n      <th>infrastructure</th>\n      <th>military</th>\n      <th>allowing</th>\n      <th>ff</th>\n      <th>dry</th>\n      <th>Prediction</th>\n    </tr>\n  </thead>\n  <tbody>\n    <tr>\n      <th>0</th>\n      <td>Email 1</td>\n      <td>0</td>\n      <td>0</td>\n      <td>1</td>\n      <td>0</td>\n      <td>0</td>\n      <td>0</td>\n      <td>2</td>\n      <td>0</td>\n      <td>0</td>\n      <td>...</td>\n      <td>0</td>\n      <td>0</td>\n      <td>0</td>\n      <td>0</td>\n      <td>0</td>\n      <td>0</td>\n      <td>0</td>\n      <td>0</td>\n      <td>0</td>\n      <td>0</td>\n    </tr>\n    <tr>\n      <th>1</th>\n      <td>Email 2</td>\n      <td>8</td>\n      <td>13</td>\n      <td>24</td>\n      <td>6</td>\n      <td>6</td>\n      <td>2</td>\n      <td>102</td>\n      <td>1</td>\n      <td>27</td>\n      <td>...</td>\n      <td>0</td>\n      <td>0</td>\n      <td>0</td>\n      <td>0</td>\n      <td>0</td>\n      <td>0</td>\n      <td>0</td>\n      <td>1</td>\n      <td>0</td>\n      <td>0</td>\n    </tr>\n    <tr>\n      <th>2</th>\n      <td>Email 3</td>\n      <td>0</td>\n      <td>0</td>\n      <td>1</td>\n      <td>0</td>\n      <td>0</td>\n      <td>0</td>\n      <td>8</td>\n      <td>0</td>\n      <td>0</td>\n      <td>...</td>\n      <td>0</td>\n      <td>0</td>\n      <td>0</td>\n      <td>0</td>\n      <td>0</td>\n      <td>0</td>\n      <td>0</td>\n      <td>0</td>\n      <td>0</td>\n      <td>0</td>\n    </tr>\n    <tr>\n      <th>3</th>\n      <td>Email 4</td>\n      <td>0</td>\n      <td>5</td>\n      <td>22</td>\n      <td>0</td>\n      <td>5</td>\n      <td>1</td>\n      <td>51</td>\n      <td>2</td>\n      <td>10</td>\n      <td>...</td>\n      <td>0</td>\n      <td>0</td>\n      <td>0</td>\n      <td>0</td>\n      <td>0</td>\n      <td>0</td>\n      <td>0</td>\n      <td>0</td>\n      <td>0</td>\n      <td>0</td>\n    </tr>\n    <tr>\n      <th>4</th>\n      <td>Email 5</td>\n      <td>7</td>\n      <td>6</td>\n      <td>17</td>\n      <td>1</td>\n      <td>5</td>\n      <td>2</td>\n      <td>57</td>\n      <td>0</td>\n      <td>9</td>\n      <td>...</td>\n      <td>0</td>\n      <td>0</td>\n      <td>0</td>\n      <td>0</td>\n      <td>0</td>\n      <td>0</td>\n      <td>0</td>\n      <td>1</td>\n      <td>0</td>\n      <td>0</td>\n    </tr>\n    <tr>\n      <th>5</th>\n      <td>Email 6</td>\n      <td>4</td>\n      <td>5</td>\n      <td>1</td>\n      <td>4</td>\n      <td>2</td>\n      <td>3</td>\n      <td>45</td>\n      <td>1</td>\n      <td>0</td>\n      <td>...</td>\n      <td>0</td>\n      <td>0</td>\n      <td>0</td>\n      <td>0</td>\n      <td>0</td>\n      <td>0</td>\n      <td>0</td>\n      <td>0</td>\n      <td>0</td>\n      <td>1</td>\n    </tr>\n    <tr>\n      <th>6</th>\n      <td>Email 7</td>\n      <td>5</td>\n      <td>3</td>\n      <td>1</td>\n      <td>3</td>\n      <td>2</td>\n      <td>1</td>\n      <td>37</td>\n      <td>0</td>\n      <td>0</td>\n      <td>...</td>\n      <td>0</td>\n      <td>0</td>\n      <td>0</td>\n      <td>0</td>\n      <td>0</td>\n      <td>0</td>\n      <td>0</td>\n      <td>0</td>\n      <td>0</td>\n      <td>0</td>\n    </tr>\n    <tr>\n      <th>7</th>\n      <td>Email 8</td>\n      <td>0</td>\n      <td>2</td>\n      <td>2</td>\n      <td>3</td>\n      <td>1</td>\n      <td>2</td>\n      <td>21</td>\n      <td>6</td>\n      <td>0</td>\n      <td>...</td>\n      <td>0</td>\n      <td>0</td>\n      <td>0</td>\n      <td>0</td>\n      <td>0</td>\n      <td>0</td>\n      <td>0</td>\n      <td>1</td>\n      <td>0</td>\n      <td>1</td>\n    </tr>\n    <tr>\n      <th>8</th>\n      <td>Email 9</td>\n      <td>2</td>\n      <td>2</td>\n      <td>3</td>\n      <td>0</td>\n      <td>0</td>\n      <td>1</td>\n      <td>18</td>\n      <td>0</td>\n      <td>0</td>\n      <td>...</td>\n      <td>0</td>\n      <td>0</td>\n      <td>0</td>\n      <td>0</td>\n      <td>0</td>\n      <td>0</td>\n      <td>0</td>\n      <td>0</td>\n      <td>0</td>\n      <td>0</td>\n    </tr>\n    <tr>\n      <th>9</th>\n      <td>Email 10</td>\n      <td>4</td>\n      <td>4</td>\n      <td>35</td>\n      <td>0</td>\n      <td>1</td>\n      <td>0</td>\n      <td>49</td>\n      <td>1</td>\n      <td>16</td>\n      <td>...</td>\n      <td>0</td>\n      <td>0</td>\n      <td>0</td>\n      <td>0</td>\n      <td>0</td>\n      <td>0</td>\n      <td>0</td>\n      <td>0</td>\n      <td>0</td>\n      <td>0</td>\n    </tr>\n    <tr>\n      <th>10</th>\n      <td>Email 11</td>\n      <td>22</td>\n      <td>14</td>\n      <td>2</td>\n      <td>9</td>\n      <td>2</td>\n      <td>2</td>\n      <td>104</td>\n      <td>0</td>\n      <td>2</td>\n      <td>...</td>\n      <td>0</td>\n      <td>0</td>\n      <td>0</td>\n      <td>0</td>\n      <td>0</td>\n      <td>0</td>\n      <td>0</td>\n      <td>1</td>\n      <td>0</td>\n      <td>0</td>\n    </tr>\n    <tr>\n      <th>11</th>\n      <td>Email 12</td>\n      <td>33</td>\n      <td>28</td>\n      <td>27</td>\n      <td>11</td>\n      <td>10</td>\n      <td>12</td>\n      <td>173</td>\n      <td>6</td>\n      <td>12</td>\n      <td>...</td>\n      <td>0</td>\n      <td>0</td>\n      <td>0</td>\n      <td>0</td>\n      <td>0</td>\n      <td>0</td>\n      <td>0</td>\n      <td>5</td>\n      <td>0</td>\n      <td>0</td>\n    </tr>\n    <tr>\n      <th>12</th>\n      <td>Email 13</td>\n      <td>27</td>\n      <td>17</td>\n      <td>3</td>\n      <td>7</td>\n      <td>5</td>\n      <td>8</td>\n      <td>106</td>\n      <td>3</td>\n      <td>0</td>\n      <td>...</td>\n      <td>0</td>\n      <td>0</td>\n      <td>0</td>\n      <td>0</td>\n      <td>0</td>\n      <td>0</td>\n      <td>0</td>\n      <td>4</td>\n      <td>0</td>\n      <td>0</td>\n    </tr>\n    <tr>\n      <th>13</th>\n      <td>Email 14</td>\n      <td>4</td>\n      <td>5</td>\n      <td>7</td>\n      <td>1</td>\n      <td>5</td>\n      <td>1</td>\n      <td>37</td>\n      <td>1</td>\n      <td>3</td>\n      <td>...</td>\n      <td>0</td>\n      <td>0</td>\n      <td>0</td>\n      <td>0</td>\n      <td>0</td>\n      <td>0</td>\n      <td>0</td>\n      <td>2</td>\n      <td>0</td>\n      <td>0</td>\n    </tr>\n    <tr>\n      <th>14</th>\n      <td>Email 15</td>\n      <td>2</td>\n      <td>4</td>\n      <td>6</td>\n      <td>0</td>\n      <td>3</td>\n      <td>1</td>\n      <td>16</td>\n      <td>0</td>\n      <td>3</td>\n      <td>...</td>\n      <td>0</td>\n      <td>0</td>\n      <td>0</td>\n      <td>0</td>\n      <td>0</td>\n      <td>0</td>\n      <td>0</td>\n      <td>1</td>\n      <td>0</td>\n      <td>0</td>\n    </tr>\n    <tr>\n      <th>15</th>\n      <td>Email 16</td>\n      <td>6</td>\n      <td>2</td>\n      <td>1</td>\n      <td>0</td>\n      <td>2</td>\n      <td>0</td>\n      <td>36</td>\n      <td>3</td>\n      <td>1</td>\n      <td>...</td>\n      <td>0</td>\n      <td>0</td>\n      <td>0</td>\n      <td>0</td>\n      <td>0</td>\n      <td>0</td>\n      <td>0</td>\n      <td>0</td>\n      <td>0</td>\n      <td>0</td>\n    </tr>\n    <tr>\n      <th>16</th>\n      <td>Email 17</td>\n      <td>3</td>\n      <td>1</td>\n      <td>2</td>\n      <td>2</td>\n      <td>0</td>\n      <td>1</td>\n      <td>17</td>\n      <td>0</td>\n      <td>0</td>\n      <td>...</td>\n      <td>0</td>\n      <td>0</td>\n      <td>0</td>\n      <td>0</td>\n      <td>0</td>\n      <td>0</td>\n      <td>0</td>\n      <td>1</td>\n      <td>0</td>\n      <td>1</td>\n    </tr>\n    <tr>\n      <th>17</th>\n      <td>Email 18</td>\n      <td>36</td>\n      <td>21</td>\n      <td>6</td>\n      <td>14</td>\n      <td>7</td>\n      <td>17</td>\n      <td>194</td>\n      <td>25</td>\n      <td>5</td>\n      <td>...</td>\n      <td>0</td>\n      <td>0</td>\n      <td>0</td>\n      <td>0</td>\n      <td>0</td>\n      <td>0</td>\n      <td>0</td>\n      <td>3</td>\n      <td>0</td>\n      <td>1</td>\n    </tr>\n    <tr>\n      <th>18</th>\n      <td>Email 19</td>\n      <td>1</td>\n      <td>3</td>\n      <td>1</td>\n      <td>0</td>\n      <td>2</td>\n      <td>0</td>\n      <td>14</td>\n      <td>0</td>\n      <td>0</td>\n      <td>...</td>\n      <td>0</td>\n      <td>0</td>\n      <td>0</td>\n      <td>0</td>\n      <td>0</td>\n      <td>0</td>\n      <td>0</td>\n      <td>0</td>\n      <td>0</td>\n      <td>0</td>\n    </tr>\n    <tr>\n      <th>19</th>\n      <td>Email 20</td>\n      <td>3</td>\n      <td>4</td>\n      <td>11</td>\n      <td>0</td>\n      <td>4</td>\n      <td>2</td>\n      <td>32</td>\n      <td>1</td>\n      <td>5</td>\n      <td>...</td>\n      <td>0</td>\n      <td>0</td>\n      <td>0</td>\n      <td>0</td>\n      <td>0</td>\n      <td>0</td>\n      <td>0</td>\n      <td>1</td>\n      <td>0</td>\n      <td>0</td>\n    </tr>\n  </tbody>\n</table>\n<p>20 rows × 3002 columns</p>\n</div>"
     },
     "metadata": {},
     "execution_count": 8
    }
   ],
   "source": [
    "df = pd.read_csv(\"C:\\\\Users\\\\Syed\\\\Documents\\\\Networking Lab\\\\Spam Detection\\\\emails.csv\")\n",
    "df.head(20)"
   ]
  },
  {
   "cell_type": "code",
   "execution_count": 9,
   "metadata": {},
   "outputs": [
    {
     "output_type": "execute_result",
     "data": {
      "text/plain": [
       "               the           to          ect          and          for  \\\n",
       "count  5172.000000  5172.000000  5172.000000  5172.000000  5172.000000   \n",
       "mean      6.640565     6.188128     5.143852     3.075599     3.124710   \n",
       "std      11.745009     9.534576    14.101142     6.045970     4.680522   \n",
       "min       0.000000     0.000000     1.000000     0.000000     0.000000   \n",
       "25%       0.000000     1.000000     1.000000     0.000000     1.000000   \n",
       "50%       3.000000     3.000000     1.000000     1.000000     2.000000   \n",
       "75%       8.000000     7.000000     4.000000     3.000000     4.000000   \n",
       "max     210.000000   132.000000   344.000000    89.000000    47.000000   \n",
       "\n",
       "                of            a          you          hou           in  ...  \\\n",
       "count  5172.000000  5172.000000  5172.000000  5172.000000  5172.000000  ...   \n",
       "mean      2.627030    55.517401     2.466551     2.024362    10.600155  ...   \n",
       "std       6.229845    87.574172     4.314444     6.967878    19.281892  ...   \n",
       "min       0.000000     0.000000     0.000000     0.000000     0.000000  ...   \n",
       "25%       0.000000    12.000000     0.000000     0.000000     1.000000  ...   \n",
       "50%       1.000000    28.000000     1.000000     0.000000     5.000000  ...   \n",
       "75%       2.000000    62.250000     3.000000     1.000000    12.000000  ...   \n",
       "max      77.000000  1898.000000    70.000000   167.000000   223.000000  ...   \n",
       "\n",
       "          connevey          jay       valued          lay  infrastructure  \\\n",
       "count  5172.000000  5172.000000  5172.000000  5172.000000     5172.000000   \n",
       "mean      0.005027     0.012568     0.010634     0.098028        0.004254   \n",
       "std       0.105788     0.199682     0.116693     0.569532        0.096252   \n",
       "min       0.000000     0.000000     0.000000     0.000000        0.000000   \n",
       "25%       0.000000     0.000000     0.000000     0.000000        0.000000   \n",
       "50%       0.000000     0.000000     0.000000     0.000000        0.000000   \n",
       "75%       0.000000     0.000000     0.000000     0.000000        0.000000   \n",
       "max       4.000000     7.000000     2.000000    12.000000        3.000000   \n",
       "\n",
       "          military     allowing           ff          dry   Prediction  \n",
       "count  5172.000000  5172.000000  5172.000000  5172.000000  5172.000000  \n",
       "mean      0.006574     0.004060     0.914733     0.006961     0.290023  \n",
       "std       0.138908     0.072145     2.780203     0.098086     0.453817  \n",
       "min       0.000000     0.000000     0.000000     0.000000     0.000000  \n",
       "25%       0.000000     0.000000     0.000000     0.000000     0.000000  \n",
       "50%       0.000000     0.000000     0.000000     0.000000     0.000000  \n",
       "75%       0.000000     0.000000     1.000000     0.000000     1.000000  \n",
       "max       4.000000     3.000000   114.000000     4.000000     1.000000  \n",
       "\n",
       "[8 rows x 3001 columns]"
      ],
      "text/html": "<div>\n<style scoped>\n    .dataframe tbody tr th:only-of-type {\n        vertical-align: middle;\n    }\n\n    .dataframe tbody tr th {\n        vertical-align: top;\n    }\n\n    .dataframe thead th {\n        text-align: right;\n    }\n</style>\n<table border=\"1\" class=\"dataframe\">\n  <thead>\n    <tr style=\"text-align: right;\">\n      <th></th>\n      <th>the</th>\n      <th>to</th>\n      <th>ect</th>\n      <th>and</th>\n      <th>for</th>\n      <th>of</th>\n      <th>a</th>\n      <th>you</th>\n      <th>hou</th>\n      <th>in</th>\n      <th>...</th>\n      <th>connevey</th>\n      <th>jay</th>\n      <th>valued</th>\n      <th>lay</th>\n      <th>infrastructure</th>\n      <th>military</th>\n      <th>allowing</th>\n      <th>ff</th>\n      <th>dry</th>\n      <th>Prediction</th>\n    </tr>\n  </thead>\n  <tbody>\n    <tr>\n      <th>count</th>\n      <td>5172.000000</td>\n      <td>5172.000000</td>\n      <td>5172.000000</td>\n      <td>5172.000000</td>\n      <td>5172.000000</td>\n      <td>5172.000000</td>\n      <td>5172.000000</td>\n      <td>5172.000000</td>\n      <td>5172.000000</td>\n      <td>5172.000000</td>\n      <td>...</td>\n      <td>5172.000000</td>\n      <td>5172.000000</td>\n      <td>5172.000000</td>\n      <td>5172.000000</td>\n      <td>5172.000000</td>\n      <td>5172.000000</td>\n      <td>5172.000000</td>\n      <td>5172.000000</td>\n      <td>5172.000000</td>\n      <td>5172.000000</td>\n    </tr>\n    <tr>\n      <th>mean</th>\n      <td>6.640565</td>\n      <td>6.188128</td>\n      <td>5.143852</td>\n      <td>3.075599</td>\n      <td>3.124710</td>\n      <td>2.627030</td>\n      <td>55.517401</td>\n      <td>2.466551</td>\n      <td>2.024362</td>\n      <td>10.600155</td>\n      <td>...</td>\n      <td>0.005027</td>\n      <td>0.012568</td>\n      <td>0.010634</td>\n      <td>0.098028</td>\n      <td>0.004254</td>\n      <td>0.006574</td>\n      <td>0.004060</td>\n      <td>0.914733</td>\n      <td>0.006961</td>\n      <td>0.290023</td>\n    </tr>\n    <tr>\n      <th>std</th>\n      <td>11.745009</td>\n      <td>9.534576</td>\n      <td>14.101142</td>\n      <td>6.045970</td>\n      <td>4.680522</td>\n      <td>6.229845</td>\n      <td>87.574172</td>\n      <td>4.314444</td>\n      <td>6.967878</td>\n      <td>19.281892</td>\n      <td>...</td>\n      <td>0.105788</td>\n      <td>0.199682</td>\n      <td>0.116693</td>\n      <td>0.569532</td>\n      <td>0.096252</td>\n      <td>0.138908</td>\n      <td>0.072145</td>\n      <td>2.780203</td>\n      <td>0.098086</td>\n      <td>0.453817</td>\n    </tr>\n    <tr>\n      <th>min</th>\n      <td>0.000000</td>\n      <td>0.000000</td>\n      <td>1.000000</td>\n      <td>0.000000</td>\n      <td>0.000000</td>\n      <td>0.000000</td>\n      <td>0.000000</td>\n      <td>0.000000</td>\n      <td>0.000000</td>\n      <td>0.000000</td>\n      <td>...</td>\n      <td>0.000000</td>\n      <td>0.000000</td>\n      <td>0.000000</td>\n      <td>0.000000</td>\n      <td>0.000000</td>\n      <td>0.000000</td>\n      <td>0.000000</td>\n      <td>0.000000</td>\n      <td>0.000000</td>\n      <td>0.000000</td>\n    </tr>\n    <tr>\n      <th>25%</th>\n      <td>0.000000</td>\n      <td>1.000000</td>\n      <td>1.000000</td>\n      <td>0.000000</td>\n      <td>1.000000</td>\n      <td>0.000000</td>\n      <td>12.000000</td>\n      <td>0.000000</td>\n      <td>0.000000</td>\n      <td>1.000000</td>\n      <td>...</td>\n      <td>0.000000</td>\n      <td>0.000000</td>\n      <td>0.000000</td>\n      <td>0.000000</td>\n      <td>0.000000</td>\n      <td>0.000000</td>\n      <td>0.000000</td>\n      <td>0.000000</td>\n      <td>0.000000</td>\n      <td>0.000000</td>\n    </tr>\n    <tr>\n      <th>50%</th>\n      <td>3.000000</td>\n      <td>3.000000</td>\n      <td>1.000000</td>\n      <td>1.000000</td>\n      <td>2.000000</td>\n      <td>1.000000</td>\n      <td>28.000000</td>\n      <td>1.000000</td>\n      <td>0.000000</td>\n      <td>5.000000</td>\n      <td>...</td>\n      <td>0.000000</td>\n      <td>0.000000</td>\n      <td>0.000000</td>\n      <td>0.000000</td>\n      <td>0.000000</td>\n      <td>0.000000</td>\n      <td>0.000000</td>\n      <td>0.000000</td>\n      <td>0.000000</td>\n      <td>0.000000</td>\n    </tr>\n    <tr>\n      <th>75%</th>\n      <td>8.000000</td>\n      <td>7.000000</td>\n      <td>4.000000</td>\n      <td>3.000000</td>\n      <td>4.000000</td>\n      <td>2.000000</td>\n      <td>62.250000</td>\n      <td>3.000000</td>\n      <td>1.000000</td>\n      <td>12.000000</td>\n      <td>...</td>\n      <td>0.000000</td>\n      <td>0.000000</td>\n      <td>0.000000</td>\n      <td>0.000000</td>\n      <td>0.000000</td>\n      <td>0.000000</td>\n      <td>0.000000</td>\n      <td>1.000000</td>\n      <td>0.000000</td>\n      <td>1.000000</td>\n    </tr>\n    <tr>\n      <th>max</th>\n      <td>210.000000</td>\n      <td>132.000000</td>\n      <td>344.000000</td>\n      <td>89.000000</td>\n      <td>47.000000</td>\n      <td>77.000000</td>\n      <td>1898.000000</td>\n      <td>70.000000</td>\n      <td>167.000000</td>\n      <td>223.000000</td>\n      <td>...</td>\n      <td>4.000000</td>\n      <td>7.000000</td>\n      <td>2.000000</td>\n      <td>12.000000</td>\n      <td>3.000000</td>\n      <td>4.000000</td>\n      <td>3.000000</td>\n      <td>114.000000</td>\n      <td>4.000000</td>\n      <td>1.000000</td>\n    </tr>\n  </tbody>\n</table>\n<p>8 rows × 3001 columns</p>\n</div>"
     },
     "metadata": {},
     "execution_count": 9
    }
   ],
   "source": [
    "df.describe()"
   ]
  },
  {
   "cell_type": "code",
   "execution_count": 10,
   "metadata": {},
   "outputs": [
    {
     "output_type": "stream",
     "name": "stdout",
     "text": [
      "Empty DataFrame\nColumns: [the, to, ect, and, for, of, a, you, hou, in, on, is, this, enron, i, be, that, will, have, with, your, at, we, s, are, it, by, com, as, from, gas, or, not, me, deal, if, meter, hpl, please, re, e, any, our, corp, can, d, all, has, was, know, need, an, forwarded, new, t, may, up, j, mmbtu, should, do, am, get, out, see, no, there, price, daren, but, been, company, l, these, let, so, would, m, into, xls, farmer, attached, us, information, they, message, day, time, my, one, what, only, http, th, volume, mail, contract, which, month, more, ...]\nIndex: []\n\n[0 rows x 3000 columns]\n"
     ]
    }
   ],
   "source": [
    "X = df.iloc[:,1:3001]\n",
    "Y = df.iloc[:,-1].values\n",
    "print(df.iloc[0:0,1:3001])"
   ]
  },
  {
   "cell_type": "code",
   "execution_count": 11,
   "metadata": {},
   "outputs": [],
   "source": [
    "train_x,test_x,train_y,test_y = train_test_split(X,Y,test_size = 0.25)\n"
   ]
  },
  {
   "cell_type": "code",
   "execution_count": 12,
   "metadata": {},
   "outputs": [
    {
     "output_type": "stream",
     "name": "stdout",
     "text": [
      "Accuracy Score :  0.97138437741686\n"
     ]
    }
   ],
   "source": [
    "rfc = RandomForestClassifier(n_estimators=100,criterion='gini')\n",
    "rfc.fit(train_x,train_y)\n",
    "y_pred3 = rfc.predict(test_x)\n",
    "print(\"Accuracy Score : \", accuracy_score(y_pred3,test_y))"
   ]
  },
  {
   "cell_type": "code",
   "execution_count": 13,
   "metadata": {},
   "outputs": [],
   "source": [
    "# mnb = MultinomialNB(alpha=1.9)         \n",
    "# mnb.fit(train_x,train_y)\n",
    "# y_pred1 = mnb.predict(test_x)\n",
    "# print(\"Accuracy Score for Naive Bayes : \", accuracy_score(y_pred1,test_y))\n"
   ]
  },
  {
   "cell_type": "code",
   "execution_count": 14,
   "metadata": {},
   "outputs": [],
   "source": [
    "email_spam_model = 'email_spam_model.sav'\n",
    "pickle.dump(rfc, open(email_spam_model, 'wb'))\n",
    "\n"
   ]
  },
  {
   "cell_type": "code",
   "execution_count": 15,
   "metadata": {},
   "outputs": [
    {
     "output_type": "stream",
     "name": "stdout",
     "text": [
      "[1 0 0 ... 0 0 1]\n"
     ]
    }
   ],
   "source": [
    "loaded_model = pickle.load(open(email_spam_model, 'rb'))\n",
    "result = loaded_model.predict(test_x) \n",
    "print(result)"
   ]
  },
  {
   "cell_type": "code",
   "execution_count": null,
   "metadata": {},
   "outputs": [],
   "source": []
  }
 ]
}